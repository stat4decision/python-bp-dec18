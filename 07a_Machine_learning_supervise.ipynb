{
 "cells": [
  {
   "cell_type": "markdown",
   "metadata": {
    "slideshow": {
     "slide_type": "slide"
    }
   },
   "source": [
    "# L’analyse de données et le machine learning avec Python\n",
    "\n",
    "Le package la plus adaptée pour faire du data mining et du machine learning est la package **scikit-learn**\n",
    "\n",
    "\n",
    "Ce package propose des fonctions prédéfinies pour un grand nombre de méthodes\n",
    "\n",
    "- La classification : SVM, plus proches voisins, random forest…\n",
    "- Les régressions : linéaire, ridge, Lasso…\n",
    "- Le clustering : k-means…\n",
    "- L’analyse de données :  ACP, DA…\n",
    "\n",
    "Dans le cadre de cette formation, l'objectf n'est pas de décrire la théorie des méthodes mais plutôt de comprendre l'utilisation de Python pour les appliquer."
   ]
  },
  {
   "cell_type": "markdown",
   "metadata": {
    "slideshow": {
     "slide_type": "slide"
    }
   },
   "source": [
    "# L’apprentissage supervisé avec Scikit-Learn\n",
    "Les méthodes d’apprentissage supervisé sont les méthodes actuellement les plus\n",
    "utilisées en data science. Il s’agit d’essayer de prédire une variable cible et d’utiliser\n",
    "différentes méthodes pour arriver à cette fin.\n",
    "Nous allons illustrer ces méthodes de traitement de données avec du code et des\n",
    "cas pratiques."
   ]
  },
  {
   "cell_type": "markdown",
   "metadata": {
    "slideshow": {
     "slide_type": "subslide"
    }
   },
   "source": [
    "### Les données et leur transformation\n",
    "CPour rappel, il est composé de 3333 individus et de 18 variables. Il est stocké dans un fichier csv, nommé telecom.csv, accessible dans le répertoire Data. On le récupère en utilisant Pandas :"
   ]
  },
  {
   "cell_type": "code",
   "execution_count": 2,
   "metadata": {
    "slideshow": {
     "slide_type": "fragment"
    }
   },
   "outputs": [],
   "source": [
    "import pandas as pd\n",
    "import numpy as np"
   ]
  },
  {
   "cell_type": "code",
   "execution_count": 3,
   "metadata": {
    "slideshow": {
     "slide_type": "fragment"
    }
   },
   "outputs": [],
   "source": [
    "churn=pd.read_csv(\"./data/telecom.csv\")"
   ]
  },
  {
   "cell_type": "markdown",
   "metadata": {
    "slideshow": {
     "slide_type": "subslide"
    }
   },
   "source": [
    "## Les données\n",
    "\n",
    "Ce jeu de données n’a pas de données manquantes et nous allons devoir effectuer\n",
    "quelques transformations pour l’adapter à nos traitements. Nous voyons par exemple qu’il est composé de trois colonnes object.\n",
    "\n",
    "Nous pouvons afficher les statistiques descriptives pour les colonnes object :"
   ]
  },
  {
   "cell_type": "code",
   "execution_count": 5,
   "metadata": {},
   "outputs": [
    {
     "name": "stdout",
     "output_type": "stream",
     "text": [
      "<class 'pandas.core.frame.DataFrame'>\n",
      "RangeIndex: 3333 entries, 0 to 3332\n",
      "Data columns (total 21 columns):\n",
      "State             3333 non-null object\n",
      "Account Length    3333 non-null int64\n",
      "Area Code         3333 non-null int64\n",
      "Phone             3333 non-null object\n",
      "Int'l Plan        3333 non-null object\n",
      "VMail Plan        3333 non-null object\n",
      "VMail Message     3333 non-null int64\n",
      "Day Mins          3333 non-null float64\n",
      "Day Calls         3333 non-null int64\n",
      "Day Charge        3333 non-null float64\n",
      "Eve Mins          3333 non-null float64\n",
      "Eve Calls         3333 non-null int64\n",
      "Eve Charge        3333 non-null float64\n",
      "Night Mins        3333 non-null float64\n",
      "Night Calls       3333 non-null int64\n",
      "Night Charge      3333 non-null float64\n",
      "Intl Mins         3333 non-null float64\n",
      "Intl Calls        3333 non-null int64\n",
      "Intl Charge       3333 non-null float64\n",
      "CustServ Calls    3333 non-null int64\n",
      "Churn?            3333 non-null object\n",
      "dtypes: float64(8), int64(8), object(5)\n",
      "memory usage: 546.9+ KB\n"
     ]
    }
   ],
   "source": [
    "churn.info()"
   ]
  },
  {
   "cell_type": "code",
   "execution_count": 8,
   "metadata": {
    "slideshow": {
     "slide_type": "subslide"
    }
   },
   "outputs": [
    {
     "data": {
      "text/html": [
       "<div>\n",
       "<style scoped>\n",
       "    .dataframe tbody tr th:only-of-type {\n",
       "        vertical-align: middle;\n",
       "    }\n",
       "\n",
       "    .dataframe tbody tr th {\n",
       "        vertical-align: top;\n",
       "    }\n",
       "\n",
       "    .dataframe thead th {\n",
       "        text-align: right;\n",
       "    }\n",
       "</style>\n",
       "<table border=\"1\" class=\"dataframe\">\n",
       "  <thead>\n",
       "    <tr style=\"text-align: right;\">\n",
       "      <th></th>\n",
       "      <th>count</th>\n",
       "      <th>unique</th>\n",
       "      <th>top</th>\n",
       "      <th>freq</th>\n",
       "    </tr>\n",
       "  </thead>\n",
       "  <tbody>\n",
       "    <tr>\n",
       "      <th>State</th>\n",
       "      <td>3333</td>\n",
       "      <td>51</td>\n",
       "      <td>WV</td>\n",
       "      <td>106</td>\n",
       "    </tr>\n",
       "    <tr>\n",
       "      <th>Phone</th>\n",
       "      <td>3333</td>\n",
       "      <td>3333</td>\n",
       "      <td>396-7091</td>\n",
       "      <td>1</td>\n",
       "    </tr>\n",
       "    <tr>\n",
       "      <th>Int'l Plan</th>\n",
       "      <td>3333</td>\n",
       "      <td>2</td>\n",
       "      <td>no</td>\n",
       "      <td>3010</td>\n",
       "    </tr>\n",
       "    <tr>\n",
       "      <th>VMail Plan</th>\n",
       "      <td>3333</td>\n",
       "      <td>2</td>\n",
       "      <td>no</td>\n",
       "      <td>2411</td>\n",
       "    </tr>\n",
       "    <tr>\n",
       "      <th>Churn?</th>\n",
       "      <td>3333</td>\n",
       "      <td>2</td>\n",
       "      <td>False.</td>\n",
       "      <td>2850</td>\n",
       "    </tr>\n",
       "  </tbody>\n",
       "</table>\n",
       "</div>"
      ],
      "text/plain": [
       "           count unique       top  freq\n",
       "State       3333     51        WV   106\n",
       "Phone       3333   3333  396-7091     1\n",
       "Int'l Plan  3333      2        no  3010\n",
       "VMail Plan  3333      2        no  2411\n",
       "Churn?      3333      2    False.  2850"
      ]
     },
     "execution_count": 8,
     "metadata": {},
     "output_type": "execute_result"
    }
   ],
   "source": [
    "churn.describe(include=\"object\").transpose()"
   ]
  },
  {
   "cell_type": "markdown",
   "metadata": {
    "slideshow": {
     "slide_type": "slide"
    }
   },
   "source": [
    "## Transformation des données\n",
    "\n",
    "On voit que les données sont toutes binaires. \n",
    "\n",
    "Pour les variables binaires, il nous suffit de les recoder avec Scikit-Learn pour obtenir des données exploitables. Par\n",
    "ailleurs, il existe une autre variable qualitative dans notre jeu de données, Area Code,\n",
    "qui est numérique mais avec trois modalités :"
   ]
  },
  {
   "cell_type": "code",
   "execution_count": 10,
   "metadata": {
    "slideshow": {
     "slide_type": "fragment"
    }
   },
   "outputs": [
    {
     "data": {
      "text/plain": [
       "415    1655\n",
       "510     840\n",
       "408     838\n",
       "Name: Area Code, dtype: int64"
      ]
     },
     "execution_count": 10,
     "metadata": {},
     "output_type": "execute_result"
    }
   ],
   "source": [
    "churn[\"Area Code\"].value_counts()"
   ]
  },
  {
   "cell_type": "markdown",
   "metadata": {
    "slideshow": {
     "slide_type": "slide"
    }
   },
   "source": [
    "## La préparation des données\n",
    "\n",
    "Nous allons utiliser le processus de traitement classique pour transformer nos\n",
    "données avec Scikit-Learn. Dans ce cas, nous n’avons pas de données manquantes,\n",
    "nous travaillons donc sur la transformation des variables qualitatives."
   ]
  },
  {
   "cell_type": "code",
   "execution_count": 9,
   "metadata": {
    "slideshow": {
     "slide_type": "fragment"
    }
   },
   "outputs": [],
   "source": [
    "from sklearn.preprocessing import LabelEncoder, OneHotEncoder,Imputer\n",
    "#from sklearn.impute import SimpleImputer"
   ]
  },
  {
   "cell_type": "markdown",
   "metadata": {
    "slideshow": {
     "slide_type": "fragment"
    }
   },
   "source": [
    "LabelEncoder va nous permettre de transformer les valeurs textuelles en entiers.\n",
    "Nous pouvons utiliser pour chaque variable qualitative :"
   ]
  },
  {
   "cell_type": "code",
   "execution_count": 10,
   "metadata": {
    "slideshow": {
     "slide_type": "fragment"
    }
   },
   "outputs": [],
   "source": [
    "# création d'un objet\n",
    "encoder=LabelEncoder()\n",
    "# on applique les données à l'objet\n",
    "churn[\"Churn?\"]=encoder.fit_transform(churn[\"Churn?\"])"
   ]
  },
  {
   "cell_type": "code",
   "execution_count": 12,
   "metadata": {},
   "outputs": [
    {
     "data": {
      "text/plain": [
       "array(['False.', 'False.', 'False.', ..., 'False.', 'False.', 'False.'],\n",
       "      dtype=object)"
      ]
     },
     "execution_count": 12,
     "metadata": {},
     "output_type": "execute_result"
    }
   ],
   "source": [
    "encoder.inverse_transform(churn[\"Churn?\"])"
   ]
  },
  {
   "cell_type": "code",
   "execution_count": 13,
   "metadata": {},
   "outputs": [
    {
     "data": {
      "text/plain": [
       "array(['False.', 'True.'], dtype=object)"
      ]
     },
     "execution_count": 13,
     "metadata": {},
     "output_type": "execute_result"
    }
   ],
   "source": [
    "encoder.inverse_transform(np.array([0,1]))"
   ]
  },
  {
   "cell_type": "code",
   "execution_count": 15,
   "metadata": {},
   "outputs": [
    {
     "data": {
      "text/plain": [
       "array([1], dtype=int64)"
      ]
     },
     "execution_count": 15,
     "metadata": {},
     "output_type": "execute_result"
    }
   ],
   "source": [
    "encoder.transform(np.array([\"True.\"]))"
   ]
  },
  {
   "cell_type": "code",
   "execution_count": 16,
   "metadata": {
    "slideshow": {
     "slide_type": "subslide"
    }
   },
   "outputs": [],
   "source": [
    "dict_label_encode={}\n",
    "for col in churn.columns:\n",
    "    if churn[col].dtype == object:\n",
    "        dict_label_encode[col]=LabelEncoder()\n",
    "        churn[col]=dict_label_encode[col].fit_transform(churn[col])"
   ]
  },
  {
   "cell_type": "code",
   "execution_count": 25,
   "metadata": {},
   "outputs": [
    {
     "data": {
      "text/plain": [
       "array(['KS', 'OH', 'NJ', ..., 'RI', 'CT', 'TN'], dtype=object)"
      ]
     },
     "execution_count": 25,
     "metadata": {},
     "output_type": "execute_result"
    }
   ],
   "source": [
    "dict_label_encode['State'].inverse_transform(churn[\"State\"])"
   ]
  },
  {
   "cell_type": "code",
   "execution_count": 29,
   "metadata": {},
   "outputs": [
    {
     "data": {
      "text/html": [
       "<div>\n",
       "<style scoped>\n",
       "    .dataframe tbody tr th:only-of-type {\n",
       "        vertical-align: middle;\n",
       "    }\n",
       "\n",
       "    .dataframe tbody tr th {\n",
       "        vertical-align: top;\n",
       "    }\n",
       "\n",
       "    .dataframe thead th {\n",
       "        text-align: right;\n",
       "    }\n",
       "</style>\n",
       "<table border=\"1\" class=\"dataframe\">\n",
       "  <thead>\n",
       "    <tr style=\"text-align: right;\">\n",
       "      <th></th>\n",
       "      <th>State</th>\n",
       "      <th>Account Length</th>\n",
       "      <th>Area Code</th>\n",
       "      <th>Phone</th>\n",
       "      <th>Int'l Plan</th>\n",
       "      <th>VMail Plan</th>\n",
       "      <th>VMail Message</th>\n",
       "      <th>Day Mins</th>\n",
       "      <th>Day Calls</th>\n",
       "      <th>Day Charge</th>\n",
       "      <th>...</th>\n",
       "      <th>Eve Calls</th>\n",
       "      <th>Eve Charge</th>\n",
       "      <th>Night Mins</th>\n",
       "      <th>Night Calls</th>\n",
       "      <th>Night Charge</th>\n",
       "      <th>Intl Mins</th>\n",
       "      <th>Intl Calls</th>\n",
       "      <th>Intl Charge</th>\n",
       "      <th>CustServ Calls</th>\n",
       "      <th>Churn?</th>\n",
       "    </tr>\n",
       "  </thead>\n",
       "  <tbody>\n",
       "    <tr>\n",
       "      <th>0</th>\n",
       "      <td>16</td>\n",
       "      <td>128</td>\n",
       "      <td>415</td>\n",
       "      <td>1926</td>\n",
       "      <td>0</td>\n",
       "      <td>1</td>\n",
       "      <td>25</td>\n",
       "      <td>265.1</td>\n",
       "      <td>110</td>\n",
       "      <td>45.07</td>\n",
       "      <td>...</td>\n",
       "      <td>99</td>\n",
       "      <td>16.78</td>\n",
       "      <td>244.7</td>\n",
       "      <td>91</td>\n",
       "      <td>11.01</td>\n",
       "      <td>10.0</td>\n",
       "      <td>3</td>\n",
       "      <td>2.70</td>\n",
       "      <td>1</td>\n",
       "      <td>0</td>\n",
       "    </tr>\n",
       "    <tr>\n",
       "      <th>1</th>\n",
       "      <td>35</td>\n",
       "      <td>107</td>\n",
       "      <td>415</td>\n",
       "      <td>1575</td>\n",
       "      <td>0</td>\n",
       "      <td>1</td>\n",
       "      <td>26</td>\n",
       "      <td>161.6</td>\n",
       "      <td>123</td>\n",
       "      <td>27.47</td>\n",
       "      <td>...</td>\n",
       "      <td>103</td>\n",
       "      <td>16.62</td>\n",
       "      <td>254.4</td>\n",
       "      <td>103</td>\n",
       "      <td>11.45</td>\n",
       "      <td>13.7</td>\n",
       "      <td>3</td>\n",
       "      <td>3.70</td>\n",
       "      <td>1</td>\n",
       "      <td>0</td>\n",
       "    </tr>\n",
       "    <tr>\n",
       "      <th>2</th>\n",
       "      <td>31</td>\n",
       "      <td>137</td>\n",
       "      <td>415</td>\n",
       "      <td>1117</td>\n",
       "      <td>0</td>\n",
       "      <td>0</td>\n",
       "      <td>0</td>\n",
       "      <td>243.4</td>\n",
       "      <td>114</td>\n",
       "      <td>41.38</td>\n",
       "      <td>...</td>\n",
       "      <td>110</td>\n",
       "      <td>10.30</td>\n",
       "      <td>162.6</td>\n",
       "      <td>104</td>\n",
       "      <td>7.32</td>\n",
       "      <td>12.2</td>\n",
       "      <td>5</td>\n",
       "      <td>3.29</td>\n",
       "      <td>0</td>\n",
       "      <td>0</td>\n",
       "    </tr>\n",
       "    <tr>\n",
       "      <th>3</th>\n",
       "      <td>35</td>\n",
       "      <td>84</td>\n",
       "      <td>408</td>\n",
       "      <td>1707</td>\n",
       "      <td>1</td>\n",
       "      <td>0</td>\n",
       "      <td>0</td>\n",
       "      <td>299.4</td>\n",
       "      <td>71</td>\n",
       "      <td>50.90</td>\n",
       "      <td>...</td>\n",
       "      <td>88</td>\n",
       "      <td>5.26</td>\n",
       "      <td>196.9</td>\n",
       "      <td>89</td>\n",
       "      <td>8.86</td>\n",
       "      <td>6.6</td>\n",
       "      <td>7</td>\n",
       "      <td>1.78</td>\n",
       "      <td>2</td>\n",
       "      <td>0</td>\n",
       "    </tr>\n",
       "    <tr>\n",
       "      <th>4</th>\n",
       "      <td>36</td>\n",
       "      <td>75</td>\n",
       "      <td>415</td>\n",
       "      <td>110</td>\n",
       "      <td>1</td>\n",
       "      <td>0</td>\n",
       "      <td>0</td>\n",
       "      <td>166.7</td>\n",
       "      <td>113</td>\n",
       "      <td>28.34</td>\n",
       "      <td>...</td>\n",
       "      <td>122</td>\n",
       "      <td>12.61</td>\n",
       "      <td>186.9</td>\n",
       "      <td>121</td>\n",
       "      <td>8.41</td>\n",
       "      <td>10.1</td>\n",
       "      <td>3</td>\n",
       "      <td>2.73</td>\n",
       "      <td>3</td>\n",
       "      <td>0</td>\n",
       "    </tr>\n",
       "  </tbody>\n",
       "</table>\n",
       "<p>5 rows × 21 columns</p>\n",
       "</div>"
      ],
      "text/plain": [
       "   State  Account Length  Area Code  Phone  Int'l Plan  VMail Plan  \\\n",
       "0     16             128        415   1926           0           1   \n",
       "1     35             107        415   1575           0           1   \n",
       "2     31             137        415   1117           0           0   \n",
       "3     35              84        408   1707           1           0   \n",
       "4     36              75        415    110           1           0   \n",
       "\n",
       "   VMail Message  Day Mins  Day Calls  Day Charge   ...    Eve Calls  \\\n",
       "0             25     265.1        110       45.07   ...           99   \n",
       "1             26     161.6        123       27.47   ...          103   \n",
       "2              0     243.4        114       41.38   ...          110   \n",
       "3              0     299.4         71       50.90   ...           88   \n",
       "4              0     166.7        113       28.34   ...          122   \n",
       "\n",
       "   Eve Charge  Night Mins  Night Calls  Night Charge  Intl Mins  Intl Calls  \\\n",
       "0       16.78       244.7           91         11.01       10.0           3   \n",
       "1       16.62       254.4          103         11.45       13.7           3   \n",
       "2       10.30       162.6          104          7.32       12.2           5   \n",
       "3        5.26       196.9           89          8.86        6.6           7   \n",
       "4       12.61       186.9          121          8.41       10.1           3   \n",
       "\n",
       "   Intl Charge  CustServ Calls  Churn?  \n",
       "0         2.70               1       0  \n",
       "1         3.70               1       0  \n",
       "2         3.29               0       0  \n",
       "3         1.78               2       0  \n",
       "4         2.73               3       0  \n",
       "\n",
       "[5 rows x 21 columns]"
      ]
     },
     "execution_count": 29,
     "metadata": {},
     "output_type": "execute_result"
    }
   ],
   "source": [
    "churn.head()"
   ]
  },
  {
   "cell_type": "markdown",
   "metadata": {
    "slideshow": {
     "slide_type": "slide"
    }
   },
   "source": [
    "## Prédire l’attrition des clients\n",
    "Lorsqu’on veut prédire une variable binaire, on devra avoir une colonne du type\n",
    "binaire. On préfère généralement un codage 0/1 afin de garder un type entier simple à gérer. \n",
    "\n",
    "Les variables explicatives x auront été préparées de manière intelligente afin de bien appliquer nos modèles.\n",
    "\n",
    "On crée donc x et y :"
   ]
  },
  {
   "cell_type": "code",
   "execution_count": 31,
   "metadata": {
    "slideshow": {
     "slide_type": "fragment"
    }
   },
   "outputs": [],
   "source": [
    "x=churn.drop(['State', 'Account Length', 'Area Code', 'Phone',\"Churn?\"], axis=1)\n",
    "y=churn[\"Churn?\"]"
   ]
  },
  {
   "cell_type": "markdown",
   "metadata": {
    "slideshow": {
     "slide_type": "slide"
    }
   },
   "source": [
    "## Séparation des données\n",
    "\n",
    "Pour la séparation, on utilise la fonction train_test_split() de Scikit-Learn.\n",
    "\n",
    "Cette fonction permet de créer automatiquement autant de structures que nécessaire\n",
    "à partir de nos données. \n",
    "\n",
    "Elle utilise une randomisation des individus et ensuite une séparation en fonction d’un paramètre du type test_size :"
   ]
  },
  {
   "cell_type": "code",
   "execution_count": 32,
   "metadata": {
    "slideshow": {
     "slide_type": "fragment"
    }
   },
   "outputs": [],
   "source": [
    "# on importe la fonction\n",
    "from sklearn.model_selection import train_test_split\n",
    "# dans ce cas on a :\n",
    "x_train, x_test, y_train, y_test = train_test_split(x,y,test_size=0.2,random_state=0)"
   ]
  },
  {
   "cell_type": "code",
   "execution_count": 33,
   "metadata": {},
   "outputs": [
    {
     "data": {
      "text/plain": [
       "0    0.855086\n",
       "1    0.144914\n",
       "Name: Churn?, dtype: float64"
      ]
     },
     "execution_count": 33,
     "metadata": {},
     "output_type": "execute_result"
    }
   ],
   "source": [
    "y.value_counts(normalize=True)"
   ]
  },
  {
   "cell_type": "code",
   "execution_count": 34,
   "metadata": {},
   "outputs": [
    {
     "data": {
      "text/plain": [
       "0    0.868066\n",
       "1    0.131934\n",
       "Name: Churn?, dtype: float64"
      ]
     },
     "execution_count": 34,
     "metadata": {},
     "output_type": "execute_result"
    }
   ],
   "source": [
    "y_test.value_counts(normalize=True)"
   ]
  },
  {
   "cell_type": "markdown",
   "metadata": {
    "slideshow": {
     "slide_type": "subslide"
    }
   },
   "source": [
    "Dans certains cas, il peut arriver qu’il y ait une forte disparité de distribution des\n",
    "modalités entre les proportions d’acceptation et de refus. On peut vouloir faire en\n",
    "sorte que les répartitions des modalités de y soient égales dans les différents échantillons,\n",
    "on pourra alors utiliser une stratification. On va utiliser une stratification en\n",
    "prenant y comme base pour effectuer la stratification :"
   ]
  },
  {
   "cell_type": "code",
   "execution_count": 35,
   "metadata": {
    "slideshow": {
     "slide_type": "fragment"
    }
   },
   "outputs": [
    {
     "data": {
      "text/plain": [
       "0    0.855086\n",
       "1    0.144914\n",
       "Name: Churn?, dtype: float64"
      ]
     },
     "execution_count": 35,
     "metadata": {},
     "output_type": "execute_result"
    }
   ],
   "source": [
    "x_train, x_test, y_train, y_test = train_test_split(x, y, test_size=0.3,stratify = y)\n",
    "y.value_counts(normalize=True)"
   ]
  },
  {
   "cell_type": "markdown",
   "metadata": {
    "slideshow": {
     "slide_type": "subslide"
    }
   },
   "source": [
    "Ainsi les deux échantillons _train et _test ont la même distribution"
   ]
  },
  {
   "cell_type": "code",
   "execution_count": 36,
   "metadata": {
    "slideshow": {
     "slide_type": "fragment"
    }
   },
   "outputs": [
    {
     "data": {
      "text/plain": [
       "0    0.855\n",
       "1    0.145\n",
       "Name: Churn?, dtype: float64"
      ]
     },
     "execution_count": 36,
     "metadata": {},
     "output_type": "execute_result"
    }
   ],
   "source": [
    "y_test.value_counts(normalize=True)"
   ]
  },
  {
   "cell_type": "code",
   "execution_count": 37,
   "metadata": {
    "slideshow": {
     "slide_type": "fragment"
    }
   },
   "outputs": [
    {
     "data": {
      "text/plain": [
       "0    0.855122\n",
       "1    0.144878\n",
       "Name: Churn?, dtype: float64"
      ]
     },
     "execution_count": 37,
     "metadata": {},
     "output_type": "execute_result"
    }
   ],
   "source": [
    "y_train.value_counts(normalize=True)"
   ]
  },
  {
   "cell_type": "markdown",
   "metadata": {
    "slideshow": {
     "slide_type": "slide"
    }
   },
   "source": [
    "## Le choix et l’ajustement de l’algorithme"
   ]
  },
  {
   "cell_type": "markdown",
   "metadata": {},
   "source": [
    "Tout au long de ce Notebook, nous allons essayer d'ajouter un nouveau modèle, il s'agit du modèle GBM\n",
    "```python\n",
    "from sklearn.ensemble import GradientBoostingClassifier\n",
    "```"
   ]
  },
  {
   "cell_type": "code",
   "execution_count": 116,
   "metadata": {
    "slideshow": {
     "slide_type": "fragment"
    }
   },
   "outputs": [],
   "source": [
    "from sklearn.neighbors import KNeighborsClassifier\n",
    "from sklearn.ensemble import RandomForestClassifier, GradientBoostingClassifier\n",
    "from sklearn.neural_network import MLPClassifier\n",
    "from sklearn.linear_model import LogisticRegression"
   ]
  },
  {
   "cell_type": "markdown",
   "metadata": {
    "slideshow": {
     "slide_type": "fragment"
    }
   },
   "source": [
    "Ensuite, on crée un objet à partir de la classe du modèle en lui fournissant les\n",
    "hyperparamètres dont il a besoin :"
   ]
  },
  {
   "cell_type": "code",
   "execution_count": 117,
   "metadata": {
    "slideshow": {
     "slide_type": "fragment"
    }
   },
   "outputs": [],
   "source": [
    "modele_rf=RandomForestClassifier(n_estimators=100,n_jobs=-1)\n",
    "modele_knn=KNeighborsClassifier(n_neighbors=5)\n",
    "modele_gbm = GradientBoostingClassifier()\n",
    "modele_rn = MLPClassifier()\n",
    "modele_logit = LogisticRegression()"
   ]
  },
  {
   "cell_type": "markdown",
   "metadata": {
    "slideshow": {
     "slide_type": "subslide"
    }
   },
   "source": [
    "Dans ce cas, on prend les hyperparamètres par défaut.\n",
    "\n",
    "On peut ensuite ajuster notre modèle en utilisant les données :"
   ]
  },
  {
   "cell_type": "code",
   "execution_count": 118,
   "metadata": {
    "slideshow": {
     "slide_type": "fragment"
    }
   },
   "outputs": [
    {
     "name": "stdout",
     "output_type": "stream",
     "text": [
      "Wall time: 253 ms\n",
      "Wall time: 0 ns\n",
      "Wall time: 182 ms\n",
      "Wall time: 525 ms\n",
      "Wall time: 32.9 ms\n"
     ]
    },
    {
     "name": "stderr",
     "output_type": "stream",
     "text": [
      "C:\\Users\\s4d-asus-14\\Anaconda3\\lib\\site-packages\\sklearn\\linear_model\\logistic.py:432: FutureWarning: Default solver will be changed to 'lbfgs' in 0.22. Specify a solver to silence this warning.\n",
      "  FutureWarning)\n"
     ]
    }
   ],
   "source": [
    "%time modele_rf.fit(x_train,y_train)\n",
    "%time modele_knn.fit(x_train,y_train)\n",
    "%time modele_gbm.fit(x_train,y_train)\n",
    "%time modele_rn.fit(x_train,y_train)\n",
    "%time modele_logit.fit(x_train,y_train)\n",
    "\n",
    "pass"
   ]
  },
  {
   "cell_type": "markdown",
   "metadata": {
    "slideshow": {
     "slide_type": "subslide"
    }
   },
   "source": [
    "Une fois qu’on a estimé les paramètres du modèle, on va pouvoir extraire des\n",
    "informations. De nouveaux attributs de chaque classe apparaissent, ils se terminent par le symbole underscore _ :"
   ]
  },
  {
   "cell_type": "code",
   "execution_count": 121,
   "metadata": {},
   "outputs": [
    {
     "data": {
      "text/html": [
       "<div>\n",
       "<style scoped>\n",
       "    .dataframe tbody tr th:only-of-type {\n",
       "        vertical-align: middle;\n",
       "    }\n",
       "\n",
       "    .dataframe tbody tr th {\n",
       "        vertical-align: top;\n",
       "    }\n",
       "\n",
       "    .dataframe thead th {\n",
       "        text-align: right;\n",
       "    }\n",
       "</style>\n",
       "<table border=\"1\" class=\"dataframe\">\n",
       "  <thead>\n",
       "    <tr style=\"text-align: right;\">\n",
       "      <th></th>\n",
       "      <th>0</th>\n",
       "    </tr>\n",
       "  </thead>\n",
       "  <tbody>\n",
       "    <tr>\n",
       "      <th>Int'l Plan</th>\n",
       "      <td>2.172762</td>\n",
       "    </tr>\n",
       "    <tr>\n",
       "      <th>VMail Plan</th>\n",
       "      <td>-1.057834</td>\n",
       "    </tr>\n",
       "    <tr>\n",
       "      <th>VMail Message</th>\n",
       "      <td>0.005937</td>\n",
       "    </tr>\n",
       "    <tr>\n",
       "      <th>Day Mins</th>\n",
       "      <td>0.010329</td>\n",
       "    </tr>\n",
       "    <tr>\n",
       "      <th>Day Calls</th>\n",
       "      <td>-0.001104</td>\n",
       "    </tr>\n",
       "    <tr>\n",
       "      <th>Day Charge</th>\n",
       "      <td>0.004922</td>\n",
       "    </tr>\n",
       "    <tr>\n",
       "      <th>Eve Mins</th>\n",
       "      <td>0.006681</td>\n",
       "    </tr>\n",
       "    <tr>\n",
       "      <th>Eve Calls</th>\n",
       "      <td>-0.001742</td>\n",
       "    </tr>\n",
       "    <tr>\n",
       "      <th>Eve Charge</th>\n",
       "      <td>-0.019875</td>\n",
       "    </tr>\n",
       "    <tr>\n",
       "      <th>Night Mins</th>\n",
       "      <td>0.002822</td>\n",
       "    </tr>\n",
       "    <tr>\n",
       "      <th>Night Calls</th>\n",
       "      <td>-0.006134</td>\n",
       "    </tr>\n",
       "    <tr>\n",
       "      <th>Night Charge</th>\n",
       "      <td>-0.006225</td>\n",
       "    </tr>\n",
       "    <tr>\n",
       "      <th>Intl Mins</th>\n",
       "      <td>0.012708</td>\n",
       "    </tr>\n",
       "    <tr>\n",
       "      <th>Intl Calls</th>\n",
       "      <td>-0.112144</td>\n",
       "    </tr>\n",
       "    <tr>\n",
       "      <th>Intl Charge</th>\n",
       "      <td>0.031996</td>\n",
       "    </tr>\n",
       "    <tr>\n",
       "      <th>CustServ Calls</th>\n",
       "      <td>0.436063</td>\n",
       "    </tr>\n",
       "  </tbody>\n",
       "</table>\n",
       "</div>"
      ],
      "text/plain": [
       "                       0\n",
       "Int'l Plan      2.172762\n",
       "VMail Plan     -1.057834\n",
       "VMail Message   0.005937\n",
       "Day Mins        0.010329\n",
       "Day Calls      -0.001104\n",
       "Day Charge      0.004922\n",
       "Eve Mins        0.006681\n",
       "Eve Calls      -0.001742\n",
       "Eve Charge     -0.019875\n",
       "Night Mins      0.002822\n",
       "Night Calls    -0.006134\n",
       "Night Charge   -0.006225\n",
       "Intl Mins       0.012708\n",
       "Intl Calls     -0.112144\n",
       "Intl Charge     0.031996\n",
       "CustServ Calls  0.436063"
      ]
     },
     "execution_count": 121,
     "metadata": {},
     "output_type": "execute_result"
    }
   ],
   "source": [
    "pd.DataFrame(modele_logit.coef_,columns=x.columns).T"
   ]
  },
  {
   "cell_type": "code",
   "execution_count": 57,
   "metadata": {
    "slideshow": {
     "slide_type": "fragment"
    }
   },
   "outputs": [
    {
     "data": {
      "text/html": [
       "<div>\n",
       "<style scoped>\n",
       "    .dataframe tbody tr th:only-of-type {\n",
       "        vertical-align: middle;\n",
       "    }\n",
       "\n",
       "    .dataframe tbody tr th {\n",
       "        vertical-align: top;\n",
       "    }\n",
       "\n",
       "    .dataframe thead th {\n",
       "        text-align: right;\n",
       "    }\n",
       "</style>\n",
       "<table border=\"1\" class=\"dataframe\">\n",
       "  <thead>\n",
       "    <tr style=\"text-align: right;\">\n",
       "      <th></th>\n",
       "      <th>Importances</th>\n",
       "    </tr>\n",
       "  </thead>\n",
       "  <tbody>\n",
       "    <tr>\n",
       "      <th>Day Mins</th>\n",
       "      <td>0.138772</td>\n",
       "    </tr>\n",
       "    <tr>\n",
       "      <th>Day Charge</th>\n",
       "      <td>0.137367</td>\n",
       "    </tr>\n",
       "    <tr>\n",
       "      <th>CustServ Calls</th>\n",
       "      <td>0.105249</td>\n",
       "    </tr>\n",
       "    <tr>\n",
       "      <th>Int'l Plan</th>\n",
       "      <td>0.087486</td>\n",
       "    </tr>\n",
       "    <tr>\n",
       "      <th>Eve Mins</th>\n",
       "      <td>0.079459</td>\n",
       "    </tr>\n",
       "    <tr>\n",
       "      <th>Eve Charge</th>\n",
       "      <td>0.079022</td>\n",
       "    </tr>\n",
       "    <tr>\n",
       "      <th>Intl Calls</th>\n",
       "      <td>0.056783</td>\n",
       "    </tr>\n",
       "    <tr>\n",
       "      <th>Intl Mins</th>\n",
       "      <td>0.045369</td>\n",
       "    </tr>\n",
       "    <tr>\n",
       "      <th>Intl Charge</th>\n",
       "      <td>0.042316</td>\n",
       "    </tr>\n",
       "    <tr>\n",
       "      <th>Night Charge</th>\n",
       "      <td>0.038649</td>\n",
       "    </tr>\n",
       "    <tr>\n",
       "      <th>Night Mins</th>\n",
       "      <td>0.037071</td>\n",
       "    </tr>\n",
       "    <tr>\n",
       "      <th>Day Calls</th>\n",
       "      <td>0.034797</td>\n",
       "    </tr>\n",
       "    <tr>\n",
       "      <th>VMail Message</th>\n",
       "      <td>0.032826</td>\n",
       "    </tr>\n",
       "    <tr>\n",
       "      <th>Night Calls</th>\n",
       "      <td>0.031225</td>\n",
       "    </tr>\n",
       "    <tr>\n",
       "      <th>Eve Calls</th>\n",
       "      <td>0.027016</td>\n",
       "    </tr>\n",
       "    <tr>\n",
       "      <th>VMail Plan</th>\n",
       "      <td>0.026592</td>\n",
       "    </tr>\n",
       "  </tbody>\n",
       "</table>\n",
       "</div>"
      ],
      "text/plain": [
       "                Importances\n",
       "Day Mins           0.138772\n",
       "Day Charge         0.137367\n",
       "CustServ Calls     0.105249\n",
       "Int'l Plan         0.087486\n",
       "Eve Mins           0.079459\n",
       "Eve Charge         0.079022\n",
       "Intl Calls         0.056783\n",
       "Intl Mins          0.045369\n",
       "Intl Charge        0.042316\n",
       "Night Charge       0.038649\n",
       "Night Mins         0.037071\n",
       "Day Calls          0.034797\n",
       "VMail Message      0.032826\n",
       "Night Calls        0.031225\n",
       "Eve Calls          0.027016\n",
       "VMail Plan         0.026592"
      ]
     },
     "execution_count": 57,
     "metadata": {},
     "output_type": "execute_result"
    }
   ],
   "source": [
    "pd.DataFrame(modele_rf.feature_importances_,index=x.columns, \n",
    "             columns=[\"Importances\"]).sort_values(\"Importances\",ascending=False)"
   ]
  },
  {
   "cell_type": "code",
   "execution_count": 58,
   "metadata": {},
   "outputs": [
    {
     "data": {
      "text/html": [
       "<div>\n",
       "<style scoped>\n",
       "    .dataframe tbody tr th:only-of-type {\n",
       "        vertical-align: middle;\n",
       "    }\n",
       "\n",
       "    .dataframe tbody tr th {\n",
       "        vertical-align: top;\n",
       "    }\n",
       "\n",
       "    .dataframe thead th {\n",
       "        text-align: right;\n",
       "    }\n",
       "</style>\n",
       "<table border=\"1\" class=\"dataframe\">\n",
       "  <thead>\n",
       "    <tr style=\"text-align: right;\">\n",
       "      <th></th>\n",
       "      <th>Importances</th>\n",
       "    </tr>\n",
       "  </thead>\n",
       "  <tbody>\n",
       "    <tr>\n",
       "      <th>Day Mins</th>\n",
       "      <td>0.167987</td>\n",
       "    </tr>\n",
       "    <tr>\n",
       "      <th>CustServ Calls</th>\n",
       "      <td>0.143503</td>\n",
       "    </tr>\n",
       "    <tr>\n",
       "      <th>Int'l Plan</th>\n",
       "      <td>0.112142</td>\n",
       "    </tr>\n",
       "    <tr>\n",
       "      <th>Day Charge</th>\n",
       "      <td>0.104127</td>\n",
       "    </tr>\n",
       "    <tr>\n",
       "      <th>Intl Calls</th>\n",
       "      <td>0.099037</td>\n",
       "    </tr>\n",
       "    <tr>\n",
       "      <th>Eve Mins</th>\n",
       "      <td>0.094820</td>\n",
       "    </tr>\n",
       "    <tr>\n",
       "      <th>Eve Charge</th>\n",
       "      <td>0.064125</td>\n",
       "    </tr>\n",
       "    <tr>\n",
       "      <th>Intl Mins</th>\n",
       "      <td>0.052135</td>\n",
       "    </tr>\n",
       "    <tr>\n",
       "      <th>VMail Plan</th>\n",
       "      <td>0.047886</td>\n",
       "    </tr>\n",
       "    <tr>\n",
       "      <th>VMail Message</th>\n",
       "      <td>0.045420</td>\n",
       "    </tr>\n",
       "    <tr>\n",
       "      <th>Intl Charge</th>\n",
       "      <td>0.032280</td>\n",
       "    </tr>\n",
       "    <tr>\n",
       "      <th>Night Mins</th>\n",
       "      <td>0.015321</td>\n",
       "    </tr>\n",
       "    <tr>\n",
       "      <th>Night Charge</th>\n",
       "      <td>0.009910</td>\n",
       "    </tr>\n",
       "    <tr>\n",
       "      <th>Day Calls</th>\n",
       "      <td>0.004616</td>\n",
       "    </tr>\n",
       "    <tr>\n",
       "      <th>Eve Calls</th>\n",
       "      <td>0.003420</td>\n",
       "    </tr>\n",
       "    <tr>\n",
       "      <th>Night Calls</th>\n",
       "      <td>0.003271</td>\n",
       "    </tr>\n",
       "  </tbody>\n",
       "</table>\n",
       "</div>"
      ],
      "text/plain": [
       "                Importances\n",
       "Day Mins           0.167987\n",
       "CustServ Calls     0.143503\n",
       "Int'l Plan         0.112142\n",
       "Day Charge         0.104127\n",
       "Intl Calls         0.099037\n",
       "Eve Mins           0.094820\n",
       "Eve Charge         0.064125\n",
       "Intl Mins          0.052135\n",
       "VMail Plan         0.047886\n",
       "VMail Message      0.045420\n",
       "Intl Charge        0.032280\n",
       "Night Mins         0.015321\n",
       "Night Charge       0.009910\n",
       "Day Calls          0.004616\n",
       "Eve Calls          0.003420\n",
       "Night Calls        0.003271"
      ]
     },
     "execution_count": 58,
     "metadata": {},
     "output_type": "execute_result"
    }
   ],
   "source": [
    "pd.DataFrame(modele_gbm.feature_importances_,index=x.columns, \n",
    "             columns=[\"Importances\"]).sort_values(\"Importances\",ascending=False)"
   ]
  },
  {
   "cell_type": "markdown",
   "metadata": {
    "slideshow": {
     "slide_type": "subslide"
    }
   },
   "source": [
    "Ce qui va nous intéresse avant tout, c’est de prédire avec notre modèle. Pour cela nous allons utiliser la méthode .predict() :"
   ]
  },
  {
   "cell_type": "code",
   "execution_count": 122,
   "metadata": {
    "slideshow": {
     "slide_type": "fragment"
    }
   },
   "outputs": [
    {
     "name": "stdout",
     "output_type": "stream",
     "text": [
      "Wall time: 29 ms\n",
      "Wall time: 1.94 ms\n",
      "Wall time: 2 ms\n",
      "Wall time: 116 ms\n",
      "Wall time: 0 ns\n"
     ]
    }
   ],
   "source": [
    "%time y_predict_knn = modele_knn.predict(x_test)\n",
    "%time y_predict_gbm = modele_gbm.predict(x_test)\n",
    "%time y_predict_rn = modele_rn.predict(x_test)\n",
    "%time y_predict_rf = modele_rf.predict(x_test)\n",
    "%time y_predict_logit = modele_logit.predict(x_test)"
   ]
  },
  {
   "cell_type": "markdown",
   "metadata": {
    "slideshow": {
     "slide_type": "fragment"
    }
   },
   "source": [
    "On obtient ainsi une valeur prédite pour les éléments de notre échantillon de\n",
    "validation."
   ]
  },
  {
   "cell_type": "markdown",
   "metadata": {
    "slideshow": {
     "slide_type": "slide"
    }
   },
   "source": [
    "## Les indicateurs pour valider un modèle\n",
    "La partie validation d’un modèle d’apprentissage supervisé est extrêmement\n",
    "importante. L’objectif d’un modèle d’apprentissage supervisé est de prédire une\n",
    "valeur la plus proche possible de la réalité. Nous différencions trois types d’indices\n",
    "en fonction du type de variable cible. Tous les indicateurs de qualité du modèle sont\n",
    "stockés dans le module *metrics* de Scikit-Learn."
   ]
  },
  {
   "cell_type": "markdown",
   "metadata": {
    "slideshow": {
     "slide_type": "subslide"
    }
   },
   "source": [
    "## Le pourcentage de bien classés\n",
    "Il s’agit de l’indicateur le plus connu. On le nomme accuracy. Il est calculé à partir du rapport entre le nombre d’individus bien classés et le nombre total d’individus dans l’échantillon."
   ]
  },
  {
   "cell_type": "code",
   "execution_count": 123,
   "metadata": {
    "slideshow": {
     "slide_type": "fragment"
    }
   },
   "outputs": [
    {
     "name": "stdout",
     "output_type": "stream",
     "text": [
      "Pourcentage de bien classés pour le modèle RF : 0.958\n",
      "Pourcentage de bien classés pour le modèle kNN : 0.876\n",
      "Pourcentage de bien classés pour le modèle GBM : 0.958\n",
      "Pourcentage de bien classés pour le modèle RN : 0.858\n",
      "Pourcentage de bien classés pour le modèle logit : 0.850\n"
     ]
    }
   ],
   "source": [
    "from sklearn.metrics import accuracy_score, recall_score\n",
    "\n",
    "accuracy_modele_rf = accuracy_score(y_test,y_predict_rf)\n",
    "accuracy_modele_knn = accuracy_score(y_test,y_predict_knn)\n",
    "accuracy_modele_gbm = accuracy_score(y_test,y_predict_gbm)\n",
    "accuracy_modele_rn = accuracy_score(y_test,y_predict_rn)\n",
    "accuracy_modele_logit = accuracy_score(y_test,y_predict_logit)\n",
    "\n",
    "\n",
    "print(\"Pourcentage de bien classés pour le modèle RF : %.3f\" %(accuracy_modele_rf))\n",
    "print(\"Pourcentage de bien classés pour le modèle kNN : %.3f\" %(accuracy_modele_knn))\n",
    "print(\"Pourcentage de bien classés pour le modèle GBM : %.3f\" %(accuracy_modele_gbm))\n",
    "print(\"Pourcentage de bien classés pour le modèle RN : %.3f\" %(accuracy_modele_rn))\n",
    "print(\"Pourcentage de bien classés pour le modèle logit : %.3f\" %(accuracy_modele_logit))\n",
    "\n",
    "#recall_modele_rf=recall_score(y_test,y_predict_rf)\n",
    "#recall_modele_knn=recall_score(y_test,y_predict_knn)\n",
    "#print(\"Rappel pour le modèle RF : %.3f\" %(recall_modele_rf))\n",
    "#print(\"Rappel pour le modèle kNN :%.3f\" %(recall_modele_knn))\n",
    "# ajouter le 3ème modèle"
   ]
  },
  {
   "cell_type": "markdown",
   "metadata": {
    "slideshow": {
     "slide_type": "subslide"
    }
   },
   "source": [
    "## La matrice de confusion\n",
    "Il s’agit d’un autre indicateur important pour juger de la qualité d’un modèle, il n’est pas défini par une seule valeur mais par une matrice dans laquelle on peut lire le croisement entre les valeurs observées et les valeurs prédites à partir du modèle. \n",
    "\n",
    "Pour calculer cette matrice, on pourra utiliser :"
   ]
  },
  {
   "cell_type": "code",
   "execution_count": 125,
   "metadata": {
    "slideshow": {
     "slide_type": "fragment"
    }
   },
   "outputs": [
    {
     "name": "stdout",
     "output_type": "stream",
     "text": [
      "Matrice de confusion pour le modèle RF :\n",
      "[[848   7]\n",
      " [ 35 110]]\n",
      "Matrice de confusion pour le modèle kNN :\n",
      "[[836  19]\n",
      " [105  40]]\n",
      "Matrice de confusion pour le modèle GBM :\n",
      "[[848   7]\n",
      " [ 35 110]]\n",
      "Matrice de confusion pour le modèle RN :\n",
      "[[819  36]\n",
      " [106  39]]\n",
      "Matrice de confusion pour le modèle Logit :\n",
      "[[820  35]\n",
      " [115  30]]\n"
     ]
    }
   ],
   "source": [
    "from sklearn.metrics import confusion_matrix\n",
    "confusion_matrix_rf=confusion_matrix(y_test,y_predict_rf)\n",
    "confusion_matrix_knn=confusion_matrix(y_test,y_predict_knn)\n",
    "confusion_matrix_gbm=confusion_matrix(y_test,y_predict_gbm)\n",
    "confusion_matrix_rn=confusion_matrix(y_test,y_predict_rn)\n",
    "confusion_matrix_logit=confusion_matrix(y_test,y_predict_logit)\n",
    "\n",
    "print(\"Matrice de confusion pour le modèle RF :\",\n",
    "confusion_matrix_rf, sep=\"\\n\")\n",
    "print(\"Matrice de confusion pour le modèle kNN :\",\n",
    "confusion_matrix_knn, sep=\"\\n\")\n",
    "print(\"Matrice de confusion pour le modèle GBM :\",\n",
    "confusion_matrix_gbm, sep=\"\\n\")\n",
    "print(\"Matrice de confusion pour le modèle RN :\",\n",
    "confusion_matrix_rn, sep=\"\\n\")\n",
    "print(\"Matrice de confusion pour le modèle Logit :\",\n",
    "confusion_matrix_logit, sep=\"\\n\")\n",
    "\n",
    "# ajouter le 3ème modèle"
   ]
  },
  {
   "cell_type": "markdown",
   "metadata": {
    "slideshow": {
     "slide_type": "subslide"
    }
   },
   "source": [
    "## Le rappel (recall), la précision et le f1-score\n",
    "\n",
    "Scikit-Learn possède des fonctions pour chacun de ces indicateurs, mais il peut\n",
    "être intéressant d’utiliser une autre fonction qui les affiche pour chaque classe :\n",
    "\n",
    "tp / (tp + fn)"
   ]
  },
  {
   "cell_type": "code",
   "execution_count": 35,
   "metadata": {
    "slideshow": {
     "slide_type": "subslide"
    }
   },
   "outputs": [
    {
     "name": "stdout",
     "output_type": "stream",
     "text": [
      "Rapport pour le modèle RF :\n",
      "              precision    recall  f1-score   support\n",
      "\n",
      "           0       0.95      0.99      0.97       855\n",
      "           1       0.95      0.68      0.80       145\n",
      "\n",
      "   micro avg       0.95      0.95      0.95      1000\n",
      "   macro avg       0.95      0.84      0.88      1000\n",
      "weighted avg       0.95      0.95      0.95      1000\n",
      "\n"
     ]
    }
   ],
   "source": [
    "from sklearn.metrics import classification_report\n",
    "print(\"Rapport pour le modèle RF :\",\n",
    "      classification_report(y_test,y_predict_rf) ,sep=\"\\n\")"
   ]
  },
  {
   "cell_type": "code",
   "execution_count": 36,
   "metadata": {
    "slideshow": {
     "slide_type": "subslide"
    }
   },
   "outputs": [
    {
     "name": "stdout",
     "output_type": "stream",
     "text": [
      "Rapport pour le modèle kNN :\n",
      "              precision    recall  f1-score   support\n",
      "\n",
      "           0       0.89      0.98      0.93       855\n",
      "           1       0.66      0.26      0.37       145\n",
      "\n",
      "   micro avg       0.87      0.87      0.87      1000\n",
      "   macro avg       0.77      0.62      0.65      1000\n",
      "weighted avg       0.85      0.87      0.85      1000\n",
      "\n"
     ]
    }
   ],
   "source": [
    "print(\"Rapport pour le modèle kNN :\",\n",
    "      classification_report(y_test,y_predict_knn) ,sep=\"\\n\")"
   ]
  },
  {
   "cell_type": "code",
   "execution_count": null,
   "metadata": {
    "slideshow": {
     "slide_type": "subslide"
    }
   },
   "outputs": [],
   "source": [
    "# ajouter le 3ème modèle"
   ]
  },
  {
   "cell_type": "markdown",
   "metadata": {
    "slideshow": {
     "slide_type": "subslide"
    }
   },
   "source": [
    "## L’aire sous la courbe ROC\n",
    "La courbe ROC est un indicateur important mais on préfère souvent une valeur plutôt\n",
    "qu’une courbe afin de comparer nos modèles. Pour cela, on utilise l’aire sous la courbe\n",
    "ROC (AUC). Cette aire est calculée directement à partir de la courbe ROC. Ainsi, un\n",
    "modèle aléatoire aura une AUC de 0.5 et un modèle parfait aura une AUC de 1."
   ]
  },
  {
   "cell_type": "code",
   "execution_count": 69,
   "metadata": {
    "slideshow": {
     "slide_type": "fragment"
    }
   },
   "outputs": [
    {
     "name": "stdout",
     "output_type": "stream",
     "text": [
      "Aire sous la courbe ROC pour le modèle RF : 0.900262149626941\n",
      "Aire sous la courbe ROC pour le modèle kNN : 0.6528735632183907\n",
      "Aire sous la courbe ROC pour le modèle GBM : 0.911058681185723\n",
      "Aire sous la courbe ROC pour le modèle RN : 0.8154143980641259\n"
     ]
    }
   ],
   "source": [
    "from sklearn.metrics import roc_auc_score\n",
    "auc_modele_rf=roc_auc_score(y_test, modele_rf.predict_proba(x_test)[:,1])\n",
    "auc_modele_knn=roc_auc_score(y_test,modele_knn.predict_proba(x_test)[:,1])\n",
    "auc_modele_gbm=roc_auc_score(y_test,modele_gbm.predict_proba(x_test)[:,1])\n",
    "auc_modele_rn=roc_auc_score(y_test,modele_rn.predict_proba(x_test)[:,1])\n",
    "\n",
    "print(\"Aire sous la courbe ROC pour le modèle RF :\" ,auc_modele_rf)\n",
    "print(\"Aire sous la courbe ROC pour le modèle kNN :\" ,auc_modele_knn)\n",
    "print(\"Aire sous la courbe ROC pour le modèle GBM :\" ,auc_modele_gbm)\n",
    "print(\"Aire sous la courbe ROC pour le modèle RN :\" ,auc_modele_rn)\n",
    "\n",
    "# ajouter le 3ème modèle"
   ]
  },
  {
   "cell_type": "markdown",
   "metadata": {
    "slideshow": {
     "slide_type": "subslide"
    }
   },
   "source": [
    "## La validation croisée\n",
    "Jusqu’ici nous avons utilisé des indicateurs basés sur une seule occurrence de test. Ceci veut dire qu’on ne teste notre modèle que sur un seul échantillon.\n",
    "\n",
    "Une approche alternative souvent utilisée est la validation croisée. Celle-ci est en fait basée sur la répétition de l’estimation et de la validation sur des données différentes.\n",
    "\n",
    "Pour obtenir ce cv-score, on utilise :"
   ]
  },
  {
   "cell_type": "code",
   "execution_count": 39,
   "metadata": {
    "slideshow": {
     "slide_type": "fragment"
    }
   },
   "outputs": [
    {
     "name": "stdout",
     "output_type": "stream",
     "text": [
      "AUC pour RF : 0.916 (+/- 0.062)\n",
      "AUC pour kNN : 0.681 (+/- 0.096)\n"
     ]
    }
   ],
   "source": [
    "from sklearn.model_selection import cross_val_score\n",
    "\n",
    "scores_rf = cross_val_score(modele_rf, x_train, y_train, cv=5, scoring='roc_auc')\n",
    "scores_knn = cross_val_score(modele_knn, x_train, y_train, cv=5, scoring='roc_auc')\n",
    "\n",
    "print(\"AUC pour RF : %.3f (+/- %.3f)\"% (scores_rf.mean(), scores_rf.std() * 2))\n",
    "print(\"AUC pour kNN : %.3f (+/- %.3f)\"% (scores_knn.mean(),scores_knn.std() * 2))\n",
    "# ajouter le 3ème modèle"
   ]
  },
  {
   "cell_type": "markdown",
   "metadata": {
    "slideshow": {
     "slide_type": "subslide"
    }
   },
   "source": [
    "## L’ajustement des hyperparamètres d’un modèle\n",
    "\n",
    "L’une des tâches du data scientist est de trouver le meilleur modèle possible. La\n",
    "plupart des modèles de machine learning ont des hyperparamètres. Il s’agit de paramètres\n",
    "du modèle qui sont définis en amont de l’ajustement.\n",
    "\n",
    "Scikit-Learn propose une classe GridSearchCV permettant d’implémenter cette\n",
    "recherche d’hyperparamètres :"
   ]
  },
  {
   "cell_type": "code",
   "execution_count": 72,
   "metadata": {
    "slideshow": {
     "slide_type": "fragment"
    }
   },
   "outputs": [],
   "source": [
    "from sklearn.model_selection import GridSearchCV"
   ]
  },
  {
   "cell_type": "markdown",
   "metadata": {
    "slideshow": {
     "slide_type": "subslide"
    }
   },
   "source": [
    "On va donc devoir définir les hyperparamètres que l’on souhaite tester. Pour cela,\n",
    "on utilisera un dictionnaire d’hyperparamètres, par exemple :"
   ]
  },
  {
   "cell_type": "code",
   "execution_count": 87,
   "metadata": {
    "slideshow": {
     "slide_type": "fragment"
    }
   },
   "outputs": [],
   "source": [
    "dico_param_rf= {\"max_depth\":[3,5,7,10,None], \"n_estimators\":[10,20,50,100,500]}\n",
    "dico_param_gbm = {\"max_depth\":[3,5,7,10], \"n_estimators\":[10,20,50,100,500]}\n"
   ]
  },
  {
   "cell_type": "markdown",
   "metadata": {
    "slideshow": {
     "slide_type": "fragment"
    }
   },
   "source": [
    "On va encore utiliser l’accuracy pour valider notre modèle. Finalement, nous allons\n",
    "utiliser une validation croisée à cinq groupes pour valider les résultats.\n",
    "Le nouvel objet est le suivant :"
   ]
  },
  {
   "cell_type": "code",
   "execution_count": 88,
   "metadata": {
    "slideshow": {
     "slide_type": "fragment"
    }
   },
   "outputs": [],
   "source": [
    "recherche_hyper_rf = GridSearchCV(RandomForestClassifier(), \n",
    "                               dico_param_rf, \n",
    "                               scoring=\"roc_auc\",cv=5)"
   ]
  },
  {
   "cell_type": "code",
   "execution_count": 89,
   "metadata": {},
   "outputs": [],
   "source": [
    "recherche_hyper_gbm = GridSearchCV(GradientBoostingClassifier(), \n",
    "                               dico_param_gbm, \n",
    "                               scoring=\"roc_auc\",cv=5)"
   ]
  },
  {
   "cell_type": "markdown",
   "metadata": {
    "slideshow": {
     "slide_type": "fragment"
    }
   },
   "source": [
    "Une fois qu’on a créé cet objet, on peut lui joindre les données afin d’estimer les\n",
    "meilleurs paramètres du modèle.\n",
    "\n",
    "Cette étape peut être très longue."
   ]
  },
  {
   "cell_type": "code",
   "execution_count": 90,
   "metadata": {
    "slideshow": {
     "slide_type": "subslide"
    }
   },
   "outputs": [],
   "source": [
    "recherche_hyper_rf.fit(x_train, y_train)\n",
    "pass"
   ]
  },
  {
   "cell_type": "code",
   "execution_count": 91,
   "metadata": {},
   "outputs": [],
   "source": [
    "recherche_hyper_gbm.fit(x_train,y_train)\n",
    "pass"
   ]
  },
  {
   "cell_type": "code",
   "execution_count": 92,
   "metadata": {},
   "outputs": [
    {
     "name": "stdout",
     "output_type": "stream",
     "text": [
      "Meilleurs paramètres pour RF : {'max_depth': None, 'n_estimators': 100}\n",
      "Meilleurs paramètres pour GBM : {'max_depth': 3, 'n_estimators': 100}\n"
     ]
    }
   ],
   "source": [
    "print(\"Meilleurs paramètres pour RF :\", recherche_hyper_rf.best_params_)\n",
    "print(\"Meilleurs paramètres pour GBM :\", recherche_hyper_gbm.best_params_)"
   ]
  },
  {
   "cell_type": "code",
   "execution_count": 93,
   "metadata": {},
   "outputs": [
    {
     "name": "stdout",
     "output_type": "stream",
     "text": [
      "AUC RF : 0.9169238672727991\n",
      "AUC GBM : 0.9188367026926222\n"
     ]
    }
   ],
   "source": [
    "print(\"AUC RF :\",recherche_hyper_rf.best_score_)\n",
    "print(\"AUC GBM :\",recherche_hyper_gbm.best_score_)"
   ]
  },
  {
   "cell_type": "code",
   "execution_count": 94,
   "metadata": {},
   "outputs": [
    {
     "data": {
      "text/plain": [
       "0.958"
      ]
     },
     "execution_count": 94,
     "metadata": {},
     "output_type": "execute_result"
    }
   ],
   "source": [
    "accuracy_score(y_test,recherche_hyper_gbm.predict(x_test))"
   ]
  },
  {
   "cell_type": "code",
   "execution_count": 95,
   "metadata": {},
   "outputs": [
    {
     "data": {
      "text/plain": [
       "0.951"
      ]
     },
     "execution_count": 95,
     "metadata": {},
     "output_type": "execute_result"
    }
   ],
   "source": [
    "accuracy_score(y_test,recherche_hyper_rf.predict(x_test))"
   ]
  },
  {
   "cell_type": "code",
   "execution_count": 102,
   "metadata": {},
   "outputs": [
    {
     "data": {
      "text/html": [
       "<div>\n",
       "<style scoped>\n",
       "    .dataframe tbody tr th:only-of-type {\n",
       "        vertical-align: middle;\n",
       "    }\n",
       "\n",
       "    .dataframe tbody tr th {\n",
       "        vertical-align: top;\n",
       "    }\n",
       "\n",
       "    .dataframe thead th {\n",
       "        text-align: right;\n",
       "    }\n",
       "</style>\n",
       "<table border=\"1\" class=\"dataframe\">\n",
       "  <thead>\n",
       "    <tr style=\"text-align: right;\">\n",
       "      <th></th>\n",
       "      <th>params</th>\n",
       "      <th>mean_test_score</th>\n",
       "      <th>std_test_score</th>\n",
       "    </tr>\n",
       "  </thead>\n",
       "  <tbody>\n",
       "    <tr>\n",
       "      <th>3</th>\n",
       "      <td>{'max_depth': 3, 'n_estimators': 100}</td>\n",
       "      <td>0.918837</td>\n",
       "      <td>0.030249</td>\n",
       "    </tr>\n",
       "    <tr>\n",
       "      <th>7</th>\n",
       "      <td>{'max_depth': 5, 'n_estimators': 50}</td>\n",
       "      <td>0.915535</td>\n",
       "      <td>0.032923</td>\n",
       "    </tr>\n",
       "    <tr>\n",
       "      <th>8</th>\n",
       "      <td>{'max_depth': 5, 'n_estimators': 100}</td>\n",
       "      <td>0.913577</td>\n",
       "      <td>0.035799</td>\n",
       "    </tr>\n",
       "    <tr>\n",
       "      <th>2</th>\n",
       "      <td>{'max_depth': 3, 'n_estimators': 50}</td>\n",
       "      <td>0.913434</td>\n",
       "      <td>0.033358</td>\n",
       "    </tr>\n",
       "    <tr>\n",
       "      <th>6</th>\n",
       "      <td>{'max_depth': 5, 'n_estimators': 20}</td>\n",
       "      <td>0.910473</td>\n",
       "      <td>0.032149</td>\n",
       "    </tr>\n",
       "    <tr>\n",
       "      <th>4</th>\n",
       "      <td>{'max_depth': 3, 'n_estimators': 500}</td>\n",
       "      <td>0.909525</td>\n",
       "      <td>0.034806</td>\n",
       "    </tr>\n",
       "    <tr>\n",
       "      <th>5</th>\n",
       "      <td>{'max_depth': 5, 'n_estimators': 10}</td>\n",
       "      <td>0.907062</td>\n",
       "      <td>0.033641</td>\n",
       "    </tr>\n",
       "    <tr>\n",
       "      <th>19</th>\n",
       "      <td>{'max_depth': 10, 'n_estimators': 500}</td>\n",
       "      <td>0.906464</td>\n",
       "      <td>0.040196</td>\n",
       "    </tr>\n",
       "    <tr>\n",
       "      <th>18</th>\n",
       "      <td>{'max_depth': 10, 'n_estimators': 100}</td>\n",
       "      <td>0.906252</td>\n",
       "      <td>0.036200</td>\n",
       "    </tr>\n",
       "    <tr>\n",
       "      <th>14</th>\n",
       "      <td>{'max_depth': 7, 'n_estimators': 500}</td>\n",
       "      <td>0.905474</td>\n",
       "      <td>0.040859</td>\n",
       "    </tr>\n",
       "    <tr>\n",
       "      <th>9</th>\n",
       "      <td>{'max_depth': 5, 'n_estimators': 500}</td>\n",
       "      <td>0.903976</td>\n",
       "      <td>0.038802</td>\n",
       "    </tr>\n",
       "    <tr>\n",
       "      <th>1</th>\n",
       "      <td>{'max_depth': 3, 'n_estimators': 20}</td>\n",
       "      <td>0.903600</td>\n",
       "      <td>0.036290</td>\n",
       "    </tr>\n",
       "    <tr>\n",
       "      <th>13</th>\n",
       "      <td>{'max_depth': 7, 'n_estimators': 100}</td>\n",
       "      <td>0.901033</td>\n",
       "      <td>0.037600</td>\n",
       "    </tr>\n",
       "    <tr>\n",
       "      <th>12</th>\n",
       "      <td>{'max_depth': 7, 'n_estimators': 50}</td>\n",
       "      <td>0.898590</td>\n",
       "      <td>0.037710</td>\n",
       "    </tr>\n",
       "    <tr>\n",
       "      <th>17</th>\n",
       "      <td>{'max_depth': 10, 'n_estimators': 50}</td>\n",
       "      <td>0.890521</td>\n",
       "      <td>0.037532</td>\n",
       "    </tr>\n",
       "    <tr>\n",
       "      <th>11</th>\n",
       "      <td>{'max_depth': 7, 'n_estimators': 20}</td>\n",
       "      <td>0.887803</td>\n",
       "      <td>0.033682</td>\n",
       "    </tr>\n",
       "    <tr>\n",
       "      <th>10</th>\n",
       "      <td>{'max_depth': 7, 'n_estimators': 10}</td>\n",
       "      <td>0.881541</td>\n",
       "      <td>0.030619</td>\n",
       "    </tr>\n",
       "    <tr>\n",
       "      <th>0</th>\n",
       "      <td>{'max_depth': 3, 'n_estimators': 10}</td>\n",
       "      <td>0.874242</td>\n",
       "      <td>0.031095</td>\n",
       "    </tr>\n",
       "    <tr>\n",
       "      <th>16</th>\n",
       "      <td>{'max_depth': 10, 'n_estimators': 20}</td>\n",
       "      <td>0.854365</td>\n",
       "      <td>0.039678</td>\n",
       "    </tr>\n",
       "    <tr>\n",
       "      <th>15</th>\n",
       "      <td>{'max_depth': 10, 'n_estimators': 10}</td>\n",
       "      <td>0.843607</td>\n",
       "      <td>0.040655</td>\n",
       "    </tr>\n",
       "  </tbody>\n",
       "</table>\n",
       "</div>"
      ],
      "text/plain": [
       "                                    params  mean_test_score  std_test_score\n",
       "3    {'max_depth': 3, 'n_estimators': 100}         0.918837        0.030249\n",
       "7     {'max_depth': 5, 'n_estimators': 50}         0.915535        0.032923\n",
       "8    {'max_depth': 5, 'n_estimators': 100}         0.913577        0.035799\n",
       "2     {'max_depth': 3, 'n_estimators': 50}         0.913434        0.033358\n",
       "6     {'max_depth': 5, 'n_estimators': 20}         0.910473        0.032149\n",
       "4    {'max_depth': 3, 'n_estimators': 500}         0.909525        0.034806\n",
       "5     {'max_depth': 5, 'n_estimators': 10}         0.907062        0.033641\n",
       "19  {'max_depth': 10, 'n_estimators': 500}         0.906464        0.040196\n",
       "18  {'max_depth': 10, 'n_estimators': 100}         0.906252        0.036200\n",
       "14   {'max_depth': 7, 'n_estimators': 500}         0.905474        0.040859\n",
       "9    {'max_depth': 5, 'n_estimators': 500}         0.903976        0.038802\n",
       "1     {'max_depth': 3, 'n_estimators': 20}         0.903600        0.036290\n",
       "13   {'max_depth': 7, 'n_estimators': 100}         0.901033        0.037600\n",
       "12    {'max_depth': 7, 'n_estimators': 50}         0.898590        0.037710\n",
       "17   {'max_depth': 10, 'n_estimators': 50}         0.890521        0.037532\n",
       "11    {'max_depth': 7, 'n_estimators': 20}         0.887803        0.033682\n",
       "10    {'max_depth': 7, 'n_estimators': 10}         0.881541        0.030619\n",
       "0     {'max_depth': 3, 'n_estimators': 10}         0.874242        0.031095\n",
       "16   {'max_depth': 10, 'n_estimators': 20}         0.854365        0.039678\n",
       "15   {'max_depth': 10, 'n_estimators': 10}         0.843607        0.040655"
      ]
     },
     "execution_count": 102,
     "metadata": {},
     "output_type": "execute_result"
    }
   ],
   "source": [
    "pd.DataFrame(recherche_hyper_gbm.cv_results_)[[\"params\",\n",
    "                                               \"mean_test_score\",\n",
    "                                               \"std_test_score\"]].sort_values(\"mean_test_score\",\n",
    "                                                                             ascending=False)"
   ]
  },
  {
   "cell_type": "code",
   "execution_count": 108,
   "metadata": {},
   "outputs": [
    {
     "data": {
      "text/plain": [
       "array([0.04243261, 0.0297343 , 0.02579451, 0.01480455, 0.04962169,\n",
       "       0.03277675, 0.02971974, 0.89536764, 0.02768316, 0.09767683,\n",
       "       0.01098248, 0.01159032, 0.02078861, 0.09486473, 0.02950235,\n",
       "       0.01934761, 0.07057012, 0.02358438, 0.09953591, 0.08059043,\n",
       "       0.25790503, 0.03065299, 0.82664506, 0.02969217, 0.01950334,\n",
       "       0.7519109 , 0.03813113, 0.01840815, 0.05476683, 0.02165875,\n",
       "       0.01781736, 0.02826266, 0.06064501, 0.21887895, 0.98270043,\n",
       "       0.02312148, 0.03145732, 0.01098071, 0.0212649 , 0.02946342,\n",
       "       0.65838014, 0.01813464, 0.03781701, 0.94896615, 0.02133946,\n",
       "       0.02331114, 0.03461429, 0.01742984, 0.02999226, 0.03332499,\n",
       "       0.02799447, 0.02664821, 0.02355094, 0.03615799, 0.01770138,\n",
       "       0.02361751, 0.03224086, 0.06373301, 0.02316135, 0.18623757,\n",
       "       0.4949015 , 0.0109937 , 0.01444412, 0.03823243, 0.03275986,\n",
       "       0.03658721, 0.01534016, 0.02053192, 0.02695769, 0.05955305,\n",
       "       0.03366808, 0.02172151, 0.02114332, 0.01978235, 0.07431164,\n",
       "       0.02666563, 0.01651587, 0.04018394, 0.0255615 , 0.10106829,\n",
       "       0.02185696, 0.0156691 , 0.85182602, 0.7661954 , 0.03959807,\n",
       "       0.17072242, 0.0156691 , 0.0580279 , 0.01941152, 0.14154582,\n",
       "       0.01507094, 0.93259405, 0.87202751, 0.0175025 , 0.02523403,\n",
       "       0.04996398, 0.03255547, 0.68496063, 0.06693549, 0.01808356,\n",
       "       0.07401359, 0.03349129, 0.11514613, 0.02232076, 0.72907759,\n",
       "       0.98858305, 0.45029427, 0.01759705, 0.03574062, 0.01465833,\n",
       "       0.02356341, 0.02454279, 0.02653756, 0.31029541, 0.05706434,\n",
       "       0.09632623, 0.01866034, 0.71113873, 0.88382947, 0.95372153,\n",
       "       0.22098789, 0.02516345, 0.01214876, 0.08331687, 0.40818303,\n",
       "       0.06390509, 0.04527696, 0.97362246, 0.92803608, 0.01945689,\n",
       "       0.02246363, 0.01773052, 0.06511388, 0.02285819, 0.02097709,\n",
       "       0.03280567, 0.02256901, 0.01664318, 0.07728203, 0.65838014,\n",
       "       0.05938072, 0.05505363, 0.00917258, 0.01360637, 0.02613622,\n",
       "       0.0316394 , 0.01778665, 0.03571335, 0.0333072 , 0.0610089 ,\n",
       "       0.02209172, 0.02982514, 0.01209404, 0.02290171, 0.04794588,\n",
       "       0.03754984, 0.01859271, 0.02528528, 0.01939474, 0.02860316,\n",
       "       0.02358499, 0.02358499, 0.02023024, 0.01343053, 0.0400522 ,\n",
       "       0.02945244, 0.09874386, 0.01694456, 0.17478244, 0.02270257,\n",
       "       0.02122359, 0.61053554, 0.01906743, 0.01835493, 0.02002995,\n",
       "       0.02653966, 0.04054366, 0.08819976, 0.95354474, 0.03269304,\n",
       "       0.01334274, 0.53936362, 0.02440433, 0.04688951, 0.70079866,\n",
       "       0.01922605, 0.60445672, 0.0314084 , 0.02032752, 0.97674746,\n",
       "       0.24494109, 0.19046131, 0.02132425, 0.01349788, 0.02687576,\n",
       "       0.02678161, 0.09742396, 0.02305921, 0.0675393 , 0.02290549,\n",
       "       0.02098802, 0.01733365, 0.0159393 , 0.85805216, 0.05823952,\n",
       "       0.6987566 , 0.02516608, 0.01391319, 0.01572993, 0.0215738 ,\n",
       "       0.02326369, 0.04114951, 0.03522342, 0.03048808, 0.0187823 ,\n",
       "       0.02854321, 0.04497808, 0.10205327, 0.04088884, 0.04361499,\n",
       "       0.05696704, 0.02305747, 0.0333187 , 0.02731094, 0.02633248,\n",
       "       0.02833053, 0.08475683, 0.48633572, 0.0252939 , 0.02172392,\n",
       "       0.23066493, 0.01334487, 0.02511232, 0.66173673, 0.0605158 ,\n",
       "       0.04237856, 0.01738617, 0.0913994 , 0.85890057, 0.01966533,\n",
       "       0.02331363, 0.02575533, 0.01842046, 0.85604988, 0.0310358 ,\n",
       "       0.85123721, 0.02846095, 0.05683013, 0.02429869, 0.81738511,\n",
       "       0.02122408, 0.94749115, 0.01445143, 0.02674325, 0.03015592,\n",
       "       0.98616845, 0.50045392, 0.07896021, 0.02402161, 0.03272167,\n",
       "       0.03454535, 0.0248092 , 0.04524923, 0.15859043, 0.02462176,\n",
       "       0.02155673, 0.12458914, 0.02506978, 0.16654953, 0.02129247,\n",
       "       0.93158963, 0.0161916 , 0.97126659, 0.03683432, 0.06819644,\n",
       "       0.03034233, 0.01712432, 0.02592953, 0.03037439, 0.03959653,\n",
       "       0.0301118 , 0.02370283, 0.03386354, 0.0160631 , 0.21755959,\n",
       "       0.05141988, 0.03049688, 0.04038487, 0.01303449, 0.0187087 ,\n",
       "       0.03419155, 0.01103106, 0.17334199, 0.02481928, 0.01944704,\n",
       "       0.06974629, 0.06670386, 0.02196579, 0.04846991, 0.03213885,\n",
       "       0.0257108 , 0.02367329, 0.0303459 , 0.22630759, 0.03073465,\n",
       "       0.02592039, 0.71885654, 0.08328815, 0.01332352, 0.01734874,\n",
       "       0.02675457, 0.02242548, 0.72105394, 0.04709584, 0.01841768,\n",
       "       0.93818938, 0.03658358, 0.03694056, 0.02707288, 0.02869217,\n",
       "       0.62712603, 0.02881345, 0.0584274 , 0.02290589, 0.02705767,\n",
       "       0.02591741, 0.918838  , 0.07339742, 0.02583751, 0.0234046 ,\n",
       "       0.00879816, 0.02324515, 0.0211301 , 0.10525785, 0.09162701,\n",
       "       0.81183848, 0.01499731, 0.01882697, 0.01778665, 0.01952633,\n",
       "       0.02450941, 0.05539808, 0.33721787, 0.01419375, 0.0286561 ,\n",
       "       0.03449641, 0.97847839, 0.24255324, 0.04802348, 0.08491898,\n",
       "       0.04712401, 0.11419219, 0.46591432, 0.32906825, 0.01497695,\n",
       "       0.01964091, 0.0165471 , 0.01790103, 0.9700983 , 0.03775841,\n",
       "       0.05340274, 0.01791011, 0.0340338 , 0.01790103, 0.25061425,\n",
       "       0.03820856, 0.1708403 , 0.9730302 , 0.29962367, 0.04532699,\n",
       "       0.02454279, 0.09126727, 0.08957642, 0.03135428, 0.01568335,\n",
       "       0.0207731 , 0.01234164, 0.99356763, 0.01705983, 0.03926604,\n",
       "       0.01567707, 0.01355493, 0.03793751, 0.03785853, 0.47791654,\n",
       "       0.02374655, 0.03141889, 0.01638665, 0.03701126, 0.01995641,\n",
       "       0.02143817, 0.57833813, 0.03684037, 0.0279774 , 0.02568936,\n",
       "       0.09349225, 0.02722953, 0.77592748, 0.05741839, 0.02155673,\n",
       "       0.0225943 , 0.65342771, 0.03937809, 0.0160455 , 0.88357534,\n",
       "       0.02798704, 0.02755006, 0.02246363, 0.11312722, 0.05038784,\n",
       "       0.02446077, 0.07471434, 0.02331555, 0.39989476, 0.0204785 ,\n",
       "       0.06331633, 0.05951954, 0.13045648, 0.02511893, 0.10661158,\n",
       "       0.04878409, 0.52774858, 0.02933143, 0.01657457, 0.02331114,\n",
       "       0.49467223, 0.02779829, 0.02901127, 0.02452585, 0.01790103,\n",
       "       0.02157583, 0.02768503, 0.91424852, 0.0371294 , 0.99550255,\n",
       "       0.01880703, 0.02126656, 0.16619376, 0.04330962, 0.02540146,\n",
       "       0.56933908, 0.69844087, 0.01481954, 0.01749713, 0.02451676,\n",
       "       0.92777619, 0.02936807, 0.02579331, 0.02230721, 0.07028919,\n",
       "       0.05483676, 0.01268126, 0.02572222, 0.02499215, 0.02226604,\n",
       "       0.04769806, 0.03452061, 0.0488258 , 0.0605863 , 0.03411762,\n",
       "       0.09310329, 0.01601379, 0.067057  , 0.01922417, 0.02594052,\n",
       "       0.6006967 , 0.03450628, 0.01976678, 0.01323935, 0.89240891,\n",
       "       0.02338689, 0.03349789, 0.11016728, 0.89707841, 0.03103267,\n",
       "       0.03156676, 0.02038717, 0.0736228 , 0.0340338 , 0.01289269,\n",
       "       0.01380426, 0.02739576, 0.07153821, 0.08184095, 0.24143405,\n",
       "       0.02626396, 0.21399217, 0.0255593 , 0.06949909, 0.01130907,\n",
       "       0.01351962, 0.01785802, 0.26099435, 0.01637817, 0.49788211,\n",
       "       0.02203219, 0.0199049 , 0.02597951, 0.69857868, 0.01386959,\n",
       "       0.08068711, 0.02573455, 0.86937245, 0.03135428, 0.02727001,\n",
       "       0.30936079, 0.03008358, 0.40347998, 0.05845964, 0.70581097,\n",
       "       0.01887937, 0.01769729, 0.03764319, 0.05539897, 0.01973976,\n",
       "       0.01444412, 0.05357281, 0.94004685, 0.02242548, 0.09664826,\n",
       "       0.01470541, 0.04774886, 0.0256925 , 0.02281184, 0.04127311,\n",
       "       0.0999812 , 0.05705007, 0.83077195, 0.8465539 , 0.15914991,\n",
       "       0.05198304, 0.18930634, 0.92168659, 0.01256595, 0.15276533,\n",
       "       0.01436707, 0.0156691 , 0.01945446, 0.03012012, 0.02085716,\n",
       "       0.04979957, 0.028969  , 0.1164759 , 0.01057857, 0.02122155,\n",
       "       0.14372313, 0.02687951, 0.02156527, 0.06240105, 0.99378191,\n",
       "       0.10503625, 0.50496185, 0.02249223, 0.01350721, 0.05171625,\n",
       "       0.02448522, 0.03518724, 0.02243171, 0.01894241, 0.04555159,\n",
       "       0.01483675, 0.01861706, 0.04462891, 0.01950062, 0.03102434,\n",
       "       0.05171625, 0.01594961, 0.02341245, 0.02940197, 0.30354014,\n",
       "       0.02330241, 0.05765595, 0.01559298, 0.02093025, 0.02777234,\n",
       "       0.05078987, 0.07180133, 0.01348782, 0.01056412, 0.02932797,\n",
       "       0.01973421, 0.02035716, 0.05143799, 0.02147619, 0.02718438,\n",
       "       0.0183471 , 0.02270774, 0.02556869, 0.05115514, 0.01472993,\n",
       "       0.03312756, 0.01880703, 0.02612894, 0.02343605, 0.03253145,\n",
       "       0.06196232, 0.02763678, 0.02568037, 0.0421347 , 0.02800081,\n",
       "       0.06511624, 0.02648021, 0.0680317 , 0.06375254, 0.11047789,\n",
       "       0.03473256, 0.03855452, 0.02688695, 0.02025422, 0.02218888,\n",
       "       0.01937391, 0.06142218, 0.04989114, 0.06031132, 0.01405898,\n",
       "       0.18448272, 0.4439324 , 0.00984745, 0.79227012, 0.89134216,\n",
       "       0.4482269 , 0.05321761, 0.02715215, 0.01828327, 0.03552318,\n",
       "       0.91223907, 0.5375131 , 0.0212649 , 0.01693843, 0.28790584,\n",
       "       0.01983562, 0.03002817, 0.10554489, 0.94158489, 0.02218307,\n",
       "       0.02982677, 0.67099568, 0.02546599, 0.02270407, 0.04480361,\n",
       "       0.02438344, 0.02458941, 0.04780465, 0.0213317 , 0.04249666,\n",
       "       0.23987888, 0.68031532, 0.02578683, 0.02225402, 0.63819844,\n",
       "       0.01655391, 0.01701712, 0.02344376, 0.07418633, 0.92980702,\n",
       "       0.01748369, 0.19434104, 0.07389223, 0.05476349, 0.01779853,\n",
       "       0.04213665, 0.02779829, 0.01506787, 0.06259543, 0.15010112,\n",
       "       0.01160025, 0.03065982, 0.11008621, 0.01852113, 0.11787821,\n",
       "       0.02166138, 0.02573455, 0.01962437, 0.05189472, 0.01801478,\n",
       "       0.03303659, 0.15772407, 0.02700263, 0.08446546, 0.03636656,\n",
       "       0.01047708, 0.01600228, 0.01816804, 0.010422  , 0.01799452,\n",
       "       0.03064902, 0.02032531, 0.88519785, 0.01198497, 0.03747957,\n",
       "       0.11129485, 0.07731379, 0.0276842 , 0.01973552, 0.02371892,\n",
       "       0.0453643 , 0.28929308, 0.02799172, 0.03009237, 0.3729003 ,\n",
       "       0.14717355, 0.01812783, 0.02245431, 0.0124753 , 0.92856484,\n",
       "       0.10559156, 0.03578095, 0.01847911, 0.02775911, 0.02160509,\n",
       "       0.02953447, 0.02698106, 0.07235022, 0.0802618 , 0.16314042,\n",
       "       0.02269264, 0.84556124, 0.01587272, 0.02338092, 0.02416946,\n",
       "       0.0168053 , 0.06078643, 0.67470702, 0.01700364, 0.08393439,\n",
       "       0.9583318 , 0.06010009, 0.99023784, 0.01839867, 0.02705076,\n",
       "       0.81647628, 0.03091413, 0.78707076, 0.03540244, 0.85099031,\n",
       "       0.01577735, 0.02988027, 0.03826802, 0.01841345, 0.09177876,\n",
       "       0.02451676, 0.01778665, 0.03367404, 0.0633573 , 0.08918169,\n",
       "       0.03134506, 0.03534696, 0.0338474 , 0.09900978, 0.53532886,\n",
       "       0.02410112, 0.0304398 , 0.01051646, 0.02239491, 0.01993654,\n",
       "       0.02363253, 0.04858003, 0.01793843, 0.03406132, 0.02134136,\n",
       "       0.04345869, 0.03331906, 0.02309722, 0.04152312, 0.01681196,\n",
       "       0.05615198, 0.03385591, 0.03242032, 0.05999152, 0.04513703,\n",
       "       0.55951816, 0.0254873 , 0.01816922, 0.01416745, 0.40652228,\n",
       "       0.03094567, 0.04416877, 0.72794135, 0.01693843, 0.02776133,\n",
       "       0.02481928, 0.01728332, 0.98108644, 0.06350571, 0.12196904,\n",
       "       0.02454279, 0.02212434, 0.88627707, 0.02454707, 0.02989372,\n",
       "       0.10878008, 0.02366823, 0.18332493, 0.48668658, 0.04816372,\n",
       "       0.00943099, 0.27828945, 0.99385411, 0.05441633, 0.05007157,\n",
       "       0.01846196, 0.02019795, 0.02900824, 0.48668419, 0.02413188,\n",
       "       0.0546154 , 0.86127596, 0.01943646, 0.02396453, 0.90522289,\n",
       "       0.03314438, 0.01032339, 0.02632276, 0.65558701, 0.05783304,\n",
       "       0.12030528, 0.019536  , 0.02343533, 0.03892943, 0.07147763,\n",
       "       0.99477377, 0.0216091 , 0.02152979, 0.03271247, 0.01975924,\n",
       "       0.02244955, 0.01930401, 0.02582673, 0.03351302, 0.99376243,\n",
       "       0.02149956, 0.05386198, 0.03421599, 0.40231606, 0.05171822,\n",
       "       0.05544994, 0.01650006, 0.04071332, 0.09295318, 0.03078943,\n",
       "       0.0201995 , 0.02249902, 0.01575112, 0.03384571, 0.02387533,\n",
       "       0.02054575, 0.10302198, 0.01976678, 0.01060266, 0.01967422,\n",
       "       0.95784534, 0.01214876, 0.01268663, 0.02102116, 0.03344948,\n",
       "       0.03038751, 0.01934761, 0.01570689, 0.03685267, 0.03088535,\n",
       "       0.1291647 , 0.11937704, 0.09093597, 0.88270478, 0.02501553,\n",
       "       0.03549432, 0.02987739, 0.09404674, 0.69277942, 0.05278799,\n",
       "       0.05883534, 0.04851217, 0.94453213, 0.05739817, 0.05594304,\n",
       "       0.02575533, 0.03652123, 0.02889496, 0.07287701, 0.02995825,\n",
       "       0.04141775, 0.07285981, 0.01758384, 0.03635153, 0.01790477,\n",
       "       0.0232948 , 0.36517674, 0.01732343, 0.01775179, 0.02695769,\n",
       "       0.02232247, 0.29649615, 0.01206242, 0.02343533, 0.0823717 ,\n",
       "       0.07053177, 0.02078744, 0.99470737, 0.03120321, 0.02869715,\n",
       "       0.92176778, 0.04709328, 0.06696336, 0.01733232, 0.0524838 ,\n",
       "       0.13092297, 0.82597883, 0.01967422, 0.02417343, 0.29920772,\n",
       "       0.01974101, 0.09671753, 0.04199073, 0.03797135, 0.0255726 ,\n",
       "       0.02766225, 0.02573455, 0.04160246, 0.02936807, 0.01778977,\n",
       "       0.02246363, 0.02972176, 0.01506282, 0.06140676, 0.02802309,\n",
       "       0.01817834, 0.02915121, 0.04801498, 0.02387052, 0.16314534,\n",
       "       0.03416331, 0.13450332, 0.93356759, 0.95774703, 0.13990368,\n",
       "       0.76043317, 0.72342666, 0.02272248, 0.0154036 , 0.02448217,\n",
       "       0.01425889, 0.0159393 , 0.0233398 , 0.90814767, 0.58310787,\n",
       "       0.02722019, 0.02343533, 0.0648639 , 0.01221045, 0.03141266,\n",
       "       0.02675457, 0.02358499, 0.01663393, 0.01416055, 0.02220913,\n",
       "       0.01098248, 0.03333389, 0.02907866, 0.02232076, 0.01526801,\n",
       "       0.03977231, 0.95855528, 0.91358278, 0.02019795, 0.08236032,\n",
       "       0.02232076, 0.47750666, 0.08114865, 0.75356535, 0.02254939,\n",
       "       0.01856951, 0.01693843, 0.73877535, 0.07460955, 0.02239491,\n",
       "       0.11109716, 0.15607173, 0.89437226, 0.02271352, 0.01334487,\n",
       "       0.44884339, 0.03310759, 0.02045625, 0.07533423, 0.06080743,\n",
       "       0.03779569, 0.02602905, 0.01967422, 0.02635707, 0.0204391 ,\n",
       "       0.02381146, 0.83333605, 0.0921912 , 0.04172942, 0.03634208,\n",
       "       0.01793843, 0.07498271, 0.02322987, 0.03152506, 0.02585359])"
      ]
     },
     "execution_count": 108,
     "metadata": {},
     "output_type": "execute_result"
    }
   ],
   "source": [
    "recherche_hyper_gbm.predict_proba(x_test)[:,1]"
   ]
  },
  {
   "cell_type": "markdown",
   "metadata": {
    "slideshow": {
     "slide_type": "subslide"
    }
   },
   "source": [
    "**Exercice :**\n",
    "\n",
    "Effectuez le même travail avc GBM"
   ]
  },
  {
   "cell_type": "code",
   "execution_count": null,
   "metadata": {},
   "outputs": [],
   "source": []
  },
  {
   "cell_type": "markdown",
   "metadata": {
    "slideshow": {
     "slide_type": "slide"
    }
   },
   "source": [
    "## La construction d’un pipeline de traitement\n",
    "\n",
    "Bien souvent vous allez être amené à enchaîner des traitements sur des données.\n",
    "On peut bien sûr développer son code de manière à suivre les étapes une à une mais il est souvent plus intéressant de créer des suites de traitements automatisées avec Scikit-Learn. \n",
    "\n",
    "Ces suites de traitements sont appelées pipeline. Ils simplifieront votre code et permettront de passer en production simplement.\n",
    "\n",
    "Ainsi, on va pouvoir faire une analyse en composantes principales suivies d’un\n",
    "algorithme de plus proches voisins directement dans un pipeline :"
   ]
  },
  {
   "cell_type": "code",
   "execution_count": 110,
   "metadata": {
    "slideshow": {
     "slide_type": "fragment"
    }
   },
   "outputs": [],
   "source": [
    "from sklearn.pipeline import Pipeline, make_pipeline\n",
    "from sklearn.decomposition import PCA"
   ]
  },
  {
   "cell_type": "code",
   "execution_count": 111,
   "metadata": {
    "slideshow": {
     "slide_type": "subslide"
    }
   },
   "outputs": [
    {
     "name": "stderr",
     "output_type": "stream",
     "text": [
      "C:\\Users\\s4d-asus-14\\Anaconda3\\lib\\site-packages\\sklearn\\ensemble\\forest.py:248: FutureWarning: The default value of n_estimators will change from 10 in version 0.20 to 100 in 0.22.\n",
      "  \"10 in version 0.20 to 100 in 0.22.\", FutureWarning)\n"
     ]
    }
   ],
   "source": [
    "acp=PCA(n_components=8)\n",
    "knn=KNeighborsClassifier()\n",
    "rf=RandomForestClassifier()\n",
    "pipe=Pipeline(steps=[(\"acp\",acp),(\"knn\",knn)])\n",
    "pipe2=Pipeline(steps=[(\"acp\",acp),(\"rf\",rf)])\n",
    "\n",
    "pipe.fit(x_train, y_train)\n",
    "pipe2.fit(x_train, y_train)\n",
    "pass"
   ]
  },
  {
   "cell_type": "markdown",
   "metadata": {
    "slideshow": {
     "slide_type": "subslide"
    }
   },
   "source": [
    "On a ainsi enchaîné deux traitements. Si on cherche des sorties liées à chacune\n",
    "des étapes, on pourra le faire simplement. Par exemple, si l’objectif est d’extraire la part de variances expliquées par les composantes de l’analyse en composantes principales, on fera :"
   ]
  },
  {
   "cell_type": "code",
   "execution_count": 113,
   "metadata": {},
   "outputs": [
    {
     "data": {
      "text/plain": [
       "0.875"
      ]
     },
     "execution_count": 113,
     "metadata": {},
     "output_type": "execute_result"
    }
   ],
   "source": [
    "accuracy_score(y_test,pipe.predict(x_test))"
   ]
  },
  {
   "cell_type": "code",
   "execution_count": 58,
   "metadata": {
    "slideshow": {
     "slide_type": "fragment"
    }
   },
   "outputs": [
    {
     "data": {
      "text/plain": [
       "array([0.31289476, 0.28288035, 0.26311168, 0.04080837, 0.03990796,\n",
       "       0.0391955 , 0.01951312, 0.00085234])"
      ]
     },
     "execution_count": 58,
     "metadata": {},
     "output_type": "execute_result"
    }
   ],
   "source": [
    "pipe.named_steps[\"acp\"].explained_variance_ratio_"
   ]
  },
  {
   "cell_type": "code",
   "execution_count": null,
   "metadata": {},
   "outputs": [],
   "source": []
  },
  {
   "cell_type": "markdown",
   "metadata": {
    "slideshow": {
     "slide_type": "slide"
    }
   },
   "source": [
    "## Trouver la meilleure combinaison d’hyperparamètres dans un pipeline\n",
    "\n",
    "Essayons de trouver la meilleure combinaison d’hyperparamètres dans un pipeline.\n",
    "Dans le cadre de cet exemple, nous utiliserons les SVM (support vector machines,\n",
    "également appelés séparateurs à vaste marge ou machines à vecteurs de support).\n",
    "Ce sont des méthodes assez complexes dans leur principe mais simples dans leur\n",
    "mise en oeuvre.\n",
    "\n",
    "Les hyperparamètres d’un modèle de SVM sont assez nombreux. Les plus importants\n",
    "étant le noyau choisi (linéaire, polynomial, sigmoïd, RBF…), les paramètres de\n",
    "ces noyaux (le degré pour le cas polynomiale, gamma…) et le C pour la marge floue.\n",
    "\n",
    "Dans notre exemple, on utilisera la fonction make_pipeline qui est équivalente\n",
    "à la classe précédente avec quelques simplifications :"
   ]
  },
  {
   "cell_type": "code",
   "execution_count": 37,
   "metadata": {
    "slideshow": {
     "slide_type": "subslide"
    }
   },
   "outputs": [],
   "source": [
    "from sklearn.pipeline import make_pipeline\n",
    "from sklearn.svm import SVC\n",
    "from sklearn.decomposition import PCA\n",
    "from sklearn.model_selection import GridSearchCV\n",
    "\n",
    "# construction du pipeline basé sur deux approches\n",
    "mon_pipe=make_pipeline(PCA(), SVC(probability=True))\n",
    "\n",
    "# construction du dictionnaire des paramètres\n",
    "# (attention utilisation de __)\n",
    "param_grid = dict(pca__n_components=[5, 10, x_train.shape[1]],\n",
    "                  svc__C= [1, 10, 100, 1000],\n",
    "                  svc__kernel= ['sigmoid', 'rbf'],\n",
    "                  svc__gamma= [0.001, 0.0001])\n",
    "\n",
    "# on construit l’objet GridSearch et on estime les hyper-paramètres\n",
    "# par validation croisée\n",
    "grid_search_mon_pipe = GridSearchCV(mon_pipe, param_grid = param_grid, scoring = \"roc_auc\", cv = 4)"
   ]
  },
  {
   "cell_type": "code",
   "execution_count": 38,
   "metadata": {
    "slideshow": {
     "slide_type": "fragment"
    }
   },
   "outputs": [],
   "source": [
    "grid_search_mon_pipe.fit(x_train,y_train)\n",
    "pass"
   ]
  },
  {
   "cell_type": "code",
   "execution_count": 39,
   "metadata": {
    "slideshow": {
     "slide_type": "subslide"
    }
   },
   "outputs": [
    {
     "data": {
      "text/plain": [
       "{'pca__n_components': 16,\n",
       " 'svc__C': 10,\n",
       " 'svc__gamma': 0.0001,\n",
       " 'svc__kernel': 'rbf'}"
      ]
     },
     "execution_count": 39,
     "metadata": {},
     "output_type": "execute_result"
    }
   ],
   "source": [
    "# la meilleure combinaisons de paramètres est :\n",
    "grid_search_mon_pipe.best_params_"
   ]
  },
  {
   "cell_type": "code",
   "execution_count": 40,
   "metadata": {
    "slideshow": {
     "slide_type": "fragment"
    }
   },
   "outputs": [
    {
     "data": {
      "text/plain": [
       "0.7702776709885911"
      ]
     },
     "execution_count": 40,
     "metadata": {},
     "output_type": "execute_result"
    }
   ],
   "source": [
    "grid_search_mon_pipe.best_score_"
   ]
  },
  {
   "cell_type": "markdown",
   "metadata": {
    "slideshow": {
     "slide_type": "fragment"
    }
   },
   "source": [
    "Les meilleurs hyperparamètres obtenus en utilisant l’aire sous la courbe ROC sont\n",
    "la combinaison C = 10, gamma = 0.0001, un noyau RBF pour les SVM et dix composantes\n",
    "pour notre analyse en composantes principales.\n",
    "\n",
    "Dans ce code, on définit les hyperparamètres associés à une méthode du pipeline\n",
    "avec un double underscore : __.\n",
    "\n",
    "L’utilisation des pipelines de Scikit-Learn va devenir rapidement une étape cruciale\n",
    "de vos développements en Python."
   ]
  },
  {
   "cell_type": "markdown",
   "metadata": {
    "slideshow": {
     "slide_type": "slide"
    }
   },
   "source": [
    "## Passer en production votre modèle d’apprentissage supervisé\n",
    "\n",
    "### Persistance de modèle avec Scikit-Learn\n",
    "\n",
    "Python possède plusieurs outils pour la persistance d’objets, c’est-à-dire pour stocker\n",
    "des objets dans des fichiers. Les objets de Scikit-Learn sont aussi dans cette\n",
    "situation. On utilise un format pickle qui aura l’extension .pkl.\n",
    "\n",
    "Par exemple, si nous voulons sauvegarder le dernier pipeline de traitement, nous\n",
    "allons utiliser :"
   ]
  },
  {
   "cell_type": "code",
   "execution_count": 115,
   "metadata": {
    "slideshow": {
     "slide_type": "fragment"
    }
   },
   "outputs": [
    {
     "data": {
      "text/plain": [
       "['./data/hyper_gbm.pkl']"
      ]
     },
     "execution_count": 115,
     "metadata": {},
     "output_type": "execute_result"
    }
   ],
   "source": [
    "from sklearn.externals import joblib\n",
    "joblib.dump(recherche_hyper_gbm, './data/hyper_gbm.pkl')"
   ]
  },
  {
   "cell_type": "markdown",
   "metadata": {
    "slideshow": {
     "slide_type": "subslide"
    }
   },
   "source": [
    "Une fois ce modèle stocké, on peut très bien le réutiliser dans un autre cadre. Si\n",
    "nous créons un nouveau notebook, nous allons utiliser :\n",
    "\n"
   ]
  },
  {
   "cell_type": "code",
   "execution_count": 65,
   "metadata": {
    "slideshow": {
     "slide_type": "fragment"
    }
   },
   "outputs": [],
   "source": [
    "from sklearn.externals import joblib\n",
    "grid_search_mon_pipe = joblib.load('../data/modele_grid_pipe.pkl')"
   ]
  },
  {
   "cell_type": "markdown",
   "metadata": {
    "slideshow": {
     "slide_type": "fragment"
    }
   },
   "source": [
    "On peut ensuite appliquer le modèle avec tous les paramètres qui ont été appris :\n"
   ]
  },
  {
   "cell_type": "markdown",
   "metadata": {
    "slideshow": {
     "slide_type": "fragment"
    }
   },
   "source": [
    "```python\n",
    "grid_search_mon_pipe.predict(x_test)\n",
    "```"
   ]
  },
  {
   "cell_type": "markdown",
   "metadata": {
    "slideshow": {
     "slide_type": "fragment"
    }
   },
   "source": [
    "L’utilisation d’un fichier Pickle dans un notebook est une technique assez simple et courante."
   ]
  }
 ],
 "metadata": {
  "celltoolbar": "Slideshow",
  "kernelspec": {
   "display_name": "Python 3",
   "language": "python",
   "name": "python3"
  },
  "language_info": {
   "codemirror_mode": {
    "name": "ipython",
    "version": 3
   },
   "file_extension": ".py",
   "mimetype": "text/x-python",
   "name": "python",
   "nbconvert_exporter": "python",
   "pygments_lexer": "ipython3",
   "version": "3.6.5"
  }
 },
 "nbformat": 4,
 "nbformat_minor": 2
}
